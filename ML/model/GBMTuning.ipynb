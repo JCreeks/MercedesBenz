{
 "cells": [
  {
   "cell_type": "code",
   "execution_count": 9,
   "metadata": {
    "collapsed": false,
    "deletable": true,
    "editable": true
   },
   "outputs": [],
   "source": [
    "import os\n",
    "import sys\n",
    "import matplotlib.pyplot as plt\n",
    "%matplotlib inline\n",
    "module_path = os.path.abspath(os.path.join('..'))\n",
    "sys.path.append(module_path)\n",
    "\n",
    "import numpy as np\n",
    "import pandas as pd\n",
    "from sklearn.metrics import r2_score\n",
    "from sklearn.model_selection import train_test_split\n",
    "import xgboost as xgb\n",
    "\n",
    "import warnings\n",
    "warnings.filterwarnings('ignore')\n",
    "\n",
    "# my own module\n",
    "from conf.configure import Configure\n",
    "from utils import data_util"
   ]
  },
  {
   "cell_type": "code",
   "execution_count": 10,
   "metadata": {
    "collapsed": true,
    "deletable": true,
    "editable": true
   },
   "outputs": [],
   "source": [
    "import numpy as np\n",
    "import pandas as pd\n",
    "import datetime\n",
    "from sklearn.cross_validation import KFold\n",
    "from sklearn.cross_validation import train_test_split\n",
    "import time\n",
    "#%matplotlib inline\n",
    "from sklearn import preprocessing\n",
    "from sklearn.preprocessing import Imputer\n",
    "from xgboost import XGBRegressor\n",
    "from sklearn.ensemble import RandomForestRegressor, ExtraTreesRegressor, GradientBoostingRegressor\n",
    "from sklearn.grid_search import GridSearchCV\n",
    "from sklearn.cross_validation import ShuffleSplit\n",
    "from sklearn.metrics import make_scorer, mean_squared_error, r2_score\n",
    "from sklearn.linear_model import Ridge, LassoCV,LassoLarsCV, ElasticNet\n",
    "from sklearn.kernel_ridge import KernelRidge\n",
    "from sklearn.neighbors import KNeighborsRegressor\n",
    "from sklearn.svm import SVR\n",
    "from scipy.stats import skew\n",
    "from time import time\n",
    "\n",
    "R2 = make_scorer(r2_score, greater_is_better=True)"
   ]
  },
  {
   "cell_type": "code",
   "execution_count": 11,
   "metadata": {
    "collapsed": false,
    "deletable": true,
    "editable": true
   },
   "outputs": [
    {
     "name": "stdout",
     "output_type": "stream",
     "text": [
      "load datas...\n"
     ]
    }
   ],
   "source": [
    "print 'load datas...'\n",
    "train, test = data_util.load_dataset()\n",
    "\n",
    "y_train_all = train['y']\n",
    "del train['ID']\n",
    "del train['y']\n",
    "id_test = test['ID']\n",
    "del test['ID']"
   ]
  },
  {
   "cell_type": "code",
   "execution_count": 12,
   "metadata": {
    "collapsed": true,
    "deletable": true,
    "editable": true
   },
   "outputs": [],
   "source": [
    "X_train = train\n",
    "X_test = test\n",
    "y_train = y_train_all\n",
    "y_mean = np.mean(y_train)\n",
    "del train, test, y_train_all"
   ]
  },
  {
   "cell_type": "code",
   "execution_count": 13,
   "metadata": {
    "collapsed": false
   },
   "outputs": [
    {
     "data": {
      "text/plain": [
       "((4209, 580), (4209, 580))"
      ]
     },
     "execution_count": 13,
     "metadata": {},
     "output_type": "execute_result"
    }
   ],
   "source": [
    "X_train.shape, X_test.shape"
   ]
  },
  {
   "cell_type": "code",
   "execution_count": 14,
   "metadata": {
    "collapsed": true,
    "deletable": true,
    "editable": true
   },
   "outputs": [],
   "source": [
    "def DeepCV(train, y_train_all, model): \n",
    "    train_r2_scores = []\n",
    "    val_r2_scores = []\n",
    "    num_boost_roundses = []\n",
    "    df_columns = train.columns.values\n",
    "    for i in range(0, 5):\n",
    "        random_state = 42 + i\n",
    "        X_train, X_val, y_train, y_val = train_test_split(train, y_train_all, test_size=0.25, random_state=random_state)\n",
    "\n",
    "        y_mean = np.mean(y_train)\n",
    "        model.fit(X_train, y_train)\n",
    "        train_r2_score = r2_score(y_train, model.predict(X_train))\n",
    "        val_r2_score = r2_score(y_val, model.predict(X_val))\n",
    "        print 'perform {} cross-validate: train r2 score = {}, validate r2 score = {}'.format(i + 1, train_r2_score,\n",
    "                                                                                              val_r2_score)\n",
    "        train_r2_scores.append(train_r2_score)\n",
    "        val_r2_scores.append(val_r2_score)\n",
    "\n",
    "    print '\\naverage train r2 score = {}, average validate r2 score = {}'.format(\n",
    "        sum(train_r2_scores) / len(train_r2_scores),\n",
    "        sum(val_r2_scores) / len(val_r2_scores))\n",
    "    \n",
    "def PrintImportance(X_train, y_train, model):\n",
    "    model.fit(X_train, y_train)\n",
    "    feat_imp = pd.Series(model.feature_importances_, X_train.columns).sort_values(ascending=False)[:50]\n",
    "    feat_imp.plot(kind='bar', title='Feature Importances')\n",
    "    plt.ylabel('Feature Importance Score')\n",
    "    plt.figure(figsize=(50,50))"
   ]
  },
  {
   "cell_type": "code",
   "execution_count": 15,
   "metadata": {
    "collapsed": false,
    "deletable": true,
    "editable": true
   },
   "outputs": [
    {
     "name": "stdout",
     "output_type": "stream",
     "text": [
      "perform 1 cross-validate: train r2 score = 0.733302603861, validate r2 score = 0.519523745861\n",
      "perform 2 cross-validate: train r2 score = 0.725647607906, validate r2 score = 0.561407101079\n",
      "perform 3 cross-validate: train r2 score = 0.74309298247, validate r2 score = 0.525925705237\n",
      "perform 4 cross-validate: train r2 score = 0.725281053699, validate r2 score = 0.590909096506\n",
      "perform 5 cross-validate: train r2 score = 0.725509225205, validate r2 score = 0.485169840901\n",
      "\n",
      "average train r2 score = 0.730566694628, average validate r2 score = 0.536587097917\n"
     ]
    }
   ],
   "source": [
    "gbm0 = GradientBoostingRegressor(random_state=10)\n",
    "DeepCV(X_train, y_train, gbm0)\n"
   ]
  },
  {
   "cell_type": "code",
   "execution_count": 16,
   "metadata": {
    "collapsed": false,
    "deletable": true,
    "editable": true
   },
   "outputs": [
    {
     "data": {
      "image/png": "[encoded data removed]",
      "text/plain": [
       "<matplotlib.figure.Figure at 0x10fc743d0>"
      ]
     },
     "metadata": {},
     "output_type": "display_data"
    },
    {
     "data": {
      "text/plain": [
       "<matplotlib.figure.Figure at 0x10fb935d0>"
      ]
     },
     "metadata": {},
     "output_type": "display_data"
    }
   ],
   "source": [
    "PrintImportance(X_train, y_train, gbm0)"
   ]
  },
  {
   "cell_type": "code",
   "execution_count": 19,
   "metadata": {
    "collapsed": false,
    "deletable": true,
    "editable": true
   },
   "outputs": [
    {
     "data": {
      "text/plain": [
       "([mean: 0.54284, std: 0.08617, params: {'n_estimators': 20},\n",
       "  mean: 0.55935, std: 0.08891, params: {'n_estimators': 30},\n",
       "  mean: 0.56469, std: 0.09055, params: {'n_estimators': 40},\n",
       "  mean: 0.56449, std: 0.09215, params: {'n_estimators': 50},\n",
       "  mean: 0.56431, std: 0.09330, params: {'n_estimators': 60},\n",
       "  mean: 0.56400, std: 0.09326, params: {'n_estimators': 70},\n",
       "  mean: 0.56290, std: 0.09312, params: {'n_estimators': 80}],\n",
       " {'n_estimators': 40},\n",
       " 0.5646896377259061)"
      ]
     },
     "execution_count": 19,
     "metadata": {},
     "output_type": "execute_result"
    }
   ],
   "source": [
    "param_test = {'n_estimators':range(20,81,10)}\n",
    "gsearch = GridSearchCV(estimator = GradientBoostingRegressor(learning_rate=0.1, min_samples_split=500,\n",
    "                        min_samples_leaf=50,max_depth=8,max_features='sqrt',subsample=0.8,random_state=10), \n",
    "param_grid = param_test, scoring=R2, n_jobs=-1, cv=10)#iid=False, \n",
    "gsearch.fit(X_train,y_train)\n",
    "gsearch.grid_scores_, gsearch.best_params_, gsearch.best_score_"
   ]
  },
  {
   "cell_type": "code",
   "execution_count": 23,
   "metadata": {
    "collapsed": false,
    "deletable": true,
    "editable": true
   },
   "outputs": [
    {
     "data": {
      "text/plain": [
       "([mean: 0.56504, std: 0.09034, params: {'min_samples_split': 20, 'max_depth': 5},\n",
       "  mean: 0.56504, std: 0.09034, params: {'min_samples_split': 40, 'max_depth': 5},\n",
       "  mean: 0.56504, std: 0.09034, params: {'min_samples_split': 60, 'max_depth': 5},\n",
       "  mean: 0.56504, std: 0.09034, params: {'min_samples_split': 80, 'max_depth': 5},\n",
       "  mean: 0.56140, std: 0.08849, params: {'min_samples_split': 20, 'max_depth': 7},\n",
       "  mean: 0.56140, std: 0.08849, params: {'min_samples_split': 40, 'max_depth': 7},\n",
       "  mean: 0.56140, std: 0.08849, params: {'min_samples_split': 60, 'max_depth': 7},\n",
       "  mean: 0.56140, std: 0.08849, params: {'min_samples_split': 80, 'max_depth': 7},\n",
       "  mean: 0.55761, std: 0.08404, params: {'min_samples_split': 20, 'max_depth': 9},\n",
       "  mean: 0.55761, std: 0.08404, params: {'min_samples_split': 40, 'max_depth': 9},\n",
       "  mean: 0.55761, std: 0.08404, params: {'min_samples_split': 60, 'max_depth': 9},\n",
       "  mean: 0.55761, std: 0.08404, params: {'min_samples_split': 80, 'max_depth': 9},\n",
       "  mean: 0.55761, std: 0.08684, params: {'min_samples_split': 20, 'max_depth': 11},\n",
       "  mean: 0.55761, std: 0.08684, params: {'min_samples_split': 40, 'max_depth': 11},\n",
       "  mean: 0.55761, std: 0.08684, params: {'min_samples_split': 60, 'max_depth': 11},\n",
       "  mean: 0.55761, std: 0.08684, params: {'min_samples_split': 80, 'max_depth': 11},\n",
       "  mean: 0.56128, std: 0.08703, params: {'min_samples_split': 20, 'max_depth': 13},\n",
       "  mean: 0.56128, std: 0.08703, params: {'min_samples_split': 40, 'max_depth': 13},\n",
       "  mean: 0.56128, std: 0.08703, params: {'min_samples_split': 60, 'max_depth': 13},\n",
       "  mean: 0.56128, std: 0.08703, params: {'min_samples_split': 80, 'max_depth': 13},\n",
       "  mean: 0.55547, std: 0.08660, params: {'min_samples_split': 20, 'max_depth': 15},\n",
       "  mean: 0.55547, std: 0.08660, params: {'min_samples_split': 40, 'max_depth': 15},\n",
       "  mean: 0.55547, std: 0.08660, params: {'min_samples_split': 60, 'max_depth': 15},\n",
       "  mean: 0.55547, std: 0.08660, params: {'min_samples_split': 80, 'max_depth': 15}],\n",
       " {'max_depth': 5, 'min_samples_split': 20},\n",
       " 0.5650437816187438)"
      ]
     },
     "execution_count": 23,
     "metadata": {},
     "output_type": "execute_result"
    }
   ],
   "source": [
    "param_test = {'max_depth':range(5,16,2), 'min_samples_split':range(20,100,20)}\n",
    "gsearch = GridSearchCV(estimator = GradientBoostingRegressor(learning_rate=0.1, n_estimators=40,\n",
    "                        min_samples_leaf=50,max_features='sqrt',subsample=0.8,random_state=10), \n",
    "param_grid = param_test, scoring=R2, n_jobs=-1, cv=10)#iid=False, \n",
    "gsearch.fit(X_train,y_train)\n",
    "gsearch.grid_scores_, gsearch.best_params_, gsearch.best_score_"
   ]
  },
  {
   "cell_type": "code",
   "execution_count": 24,
   "metadata": {
    "collapsed": false,
    "deletable": true,
    "editable": true
   },
   "outputs": [
    {
     "data": {
      "text/plain": [
       "([mean: 0.56291, std: 0.08823, params: {'max_depth': 4, 'min_samples_leaf': 30},\n",
       "  mean: 0.56291, std: 0.08782, params: {'max_depth': 4, 'min_samples_leaf': 40},\n",
       "  mean: 0.56406, std: 0.09228, params: {'max_depth': 4, 'min_samples_leaf': 50},\n",
       "  mean: 0.56369, std: 0.08903, params: {'max_depth': 4, 'min_samples_leaf': 60},\n",
       "  mean: 0.56303, std: 0.08731, params: {'max_depth': 4, 'min_samples_leaf': 70},\n",
       "  mean: 0.56564, std: 0.08651, params: {'max_depth': 5, 'min_samples_leaf': 30},\n",
       "  mean: 0.56328, std: 0.08819, params: {'max_depth': 5, 'min_samples_leaf': 40},\n",
       "  mean: 0.56504, std: 0.09034, params: {'max_depth': 5, 'min_samples_leaf': 50},\n",
       "  mean: 0.56706, std: 0.08847, params: {'max_depth': 5, 'min_samples_leaf': 60},\n",
       "  mean: 0.56376, std: 0.08946, params: {'max_depth': 5, 'min_samples_leaf': 70},\n",
       "  mean: 0.56387, std: 0.08909, params: {'max_depth': 6, 'min_samples_leaf': 30},\n",
       "  mean: 0.56575, std: 0.09324, params: {'max_depth': 6, 'min_samples_leaf': 40},\n",
       "  mean: 0.56011, std: 0.08883, params: {'max_depth': 6, 'min_samples_leaf': 50},\n",
       "  mean: 0.56311, std: 0.08688, params: {'max_depth': 6, 'min_samples_leaf': 60},\n",
       "  mean: 0.56035, std: 0.08923, params: {'max_depth': 6, 'min_samples_leaf': 70}],\n",
       " {'max_depth': 5, 'min_samples_leaf': 60},\n",
       " 0.5670603650619029)"
      ]
     },
     "execution_count": 24,
     "metadata": {},
     "output_type": "execute_result"
    }
   ],
   "source": [
    "param_test = {'max_depth':range(4,7,1), 'min_samples_leaf':range(30,71,10)}\n",
    "gsearch = GridSearchCV(estimator = GradientBoostingRegressor(learning_rate=0.1, n_estimators=40,\n",
    "                        min_samples_split=20,max_features='sqrt',subsample=0.8,random_state=10), \n",
    "param_grid = param_test, scoring=R2, n_jobs=-1, cv=10)#iid=False, \n",
    "gsearch.fit(X_train,y_train)\n",
    "gsearch.grid_scores_, gsearch.best_params_, gsearch.best_score_"
   ]
  },
  {
   "cell_type": "code",
   "execution_count": 25,
   "metadata": {
    "collapsed": false,
    "deletable": true,
    "editable": true
   },
   "outputs": [
    {
     "data": {
      "text/plain": [
       "([mean: 0.54357, std: 0.08623, params: {'n_estimators': 20},\n",
       "  mean: 0.56071, std: 0.08841, params: {'n_estimators': 30},\n",
       "  mean: 0.56706, std: 0.08847, params: {'n_estimators': 40},\n",
       "  mean: 0.56819, std: 0.09070, params: {'n_estimators': 50},\n",
       "  mean: 0.56805, std: 0.09147, params: {'n_estimators': 60},\n",
       "  mean: 0.56694, std: 0.09292, params: {'n_estimators': 70},\n",
       "  mean: 0.56679, std: 0.09394, params: {'n_estimators': 80}],\n",
       " {'n_estimators': 50},\n",
       " 0.5681880676609476)"
      ]
     },
     "execution_count": 25,
     "metadata": {},
     "output_type": "execute_result"
    }
   ],
   "source": [
    "param_test = {'n_estimators':range(20,81,10)}\n",
    "gsearch = GridSearchCV(estimator = GradientBoostingRegressor(learning_rate=0.1, min_samples_split=20,\n",
    "                        min_samples_leaf=60,max_depth=5, max_features='sqrt',subsample=0.8,random_state=10), \n",
    "param_grid = param_test, scoring=R2, n_jobs=-1, cv=10)#iid=False, \n",
    "gsearch.fit(X_train,y_train)\n",
    "gsearch.grid_scores_, gsearch.best_params_, gsearch.best_score_"
   ]
  },
  {
   "cell_type": "code",
   "execution_count": 28,
   "metadata": {
    "collapsed": false,
    "deletable": true,
    "editable": true
   },
   "outputs": [
    {
     "data": {
      "text/plain": [
       "([mean: 0.56426, std: 0.09095, params: {'subsample': 0.6},\n",
       "  mean: 0.55953, std: 0.08847, params: {'subsample': 0.7},\n",
       "  mean: 0.56776, std: 0.08894, params: {'subsample': 0.75},\n",
       "  mean: 0.56819, std: 0.09070, params: {'subsample': 0.8},\n",
       "  mean: 0.56260, std: 0.09131, params: {'subsample': 0.85},\n",
       "  mean: 0.56333, std: 0.09211, params: {'subsample': 0.9}],\n",
       " {'subsample': 0.8},\n",
       " 0.5681880676609476)"
      ]
     },
     "execution_count": 28,
     "metadata": {},
     "output_type": "execute_result"
    }
   ],
   "source": [
    "param_test = {'subsample':[0.6,0.7,0.75,0.8,0.85,0.9]}\n",
    "gsearch = GridSearchCV(estimator = GradientBoostingRegressor(learning_rate=0.1, n_estimators=50,min_samples_leaf=60,\n",
    "                        min_samples_split=20,max_features='sqrt',max_depth=5,random_state=10), \n",
    "param_grid = param_test, scoring=R2, n_jobs=-1, cv=10)#iid=False, \n",
    "gsearch.fit(X_train,y_train)\n",
    "gsearch.grid_scores_, gsearch.best_params_, gsearch.best_score_"
   ]
  },
  {
   "cell_type": "code",
   "execution_count": 29,
   "metadata": {
    "collapsed": false
   },
   "outputs": [
    {
     "data": {
      "text/plain": [
       "([mean: 0.56844, std: 0.09378, params: {'max_features': 0.10000000000000001},\n",
       "  mean: 0.56797, std: 0.08902, params: {'max_features': 0.20000000000000001},\n",
       "  mean: 0.56760, std: 0.09144, params: {'max_features': 0.30000000000000004},\n",
       "  mean: 0.57172, std: 0.09258, params: {'max_features': 0.40000000000000002},\n",
       "  mean: 0.56917, std: 0.09169, params: {'max_features': 0.5},\n",
       "  mean: 0.56907, std: 0.09085, params: {'max_features': 0.60000000000000009},\n",
       "  mean: 0.56884, std: 0.09252, params: {'max_features': 0.70000000000000007},\n",
       "  mean: 0.56764, std: 0.09407, params: {'max_features': 0.80000000000000004},\n",
       "  mean: 0.56713, std: 0.09351, params: {'max_features': 0.90000000000000002}],\n",
       " {'max_features': 0.40000000000000002},\n",
       " 0.5717186214836556)"
      ]
     },
     "execution_count": 29,
     "metadata": {},
     "output_type": "execute_result"
    }
   ],
   "source": [
    "param_test = {'max_features':1/10.0*np.arange(1,10,1)}\n",
    "gsearch = GridSearchCV(estimator = GradientBoostingRegressor(learning_rate=0.1, n_estimators=50,min_samples_leaf=60,\n",
    "                        min_samples_split=20,subsample=0.8,max_depth=5,random_state=10), \n",
    "param_grid = param_test, scoring=R2, n_jobs=-1, cv=10)#iid=False, \n",
    "gsearch.fit(X_train,y_train)\n",
    "gsearch.grid_scores_, gsearch.best_params_, gsearch.best_score_"
   ]
  },
  {
   "cell_type": "code",
   "execution_count": 30,
   "metadata": {
    "collapsed": false
   },
   "outputs": [
    {
     "name": "stdout",
     "output_type": "stream",
     "text": [
      "perform 1 cross-validate: train r2 score = 0.651479288942, validate r2 score = 0.559670742634\n",
      "perform 2 cross-validate: train r2 score = 0.665232368721, validate r2 score = 0.557367922229\n",
      "perform 3 cross-validate: train r2 score = 0.676688846903, validate r2 score = 0.528358040512\n",
      "perform 4 cross-validate: train r2 score = 0.651576771735, validate r2 score = 0.598332433492\n",
      "perform 5 cross-validate: train r2 score = 0.685262777142, validate r2 score = 0.477756182351\n",
      "\n",
      "average train r2 score = 0.666048010689, average validate r2 score = 0.544297064244\n"
     ]
    }
   ],
   "source": [
    "DeepCV(model=gsearch, train=X_train, y_train_all=y_train)"
   ]
  },
  {
   "cell_type": "code",
   "execution_count": 31,
   "metadata": {
    "collapsed": false
   },
   "outputs": [
    {
     "data": {
      "text/plain": [
       "([mean: 0.57172, std: 0.09258, params: {'learning_rate': 0.1},\n",
       "  mean: 0.57217, std: 0.08726, params: {'learning_rate': 0.05},\n",
       "  mean: 0.49940, std: 0.07609, params: {'learning_rate': 0.02},\n",
       "  mean: 0.36316, std: 0.05652, params: {'learning_rate': 0.01}],\n",
       " {'learning_rate': 0.05},\n",
       " 0.5721697269773811)"
      ]
     },
     "execution_count": 31,
     "metadata": {},
     "output_type": "execute_result"
    }
   ],
   "source": [
    "param_test = {'learning_rate':[.1,.05,.02,.01]}\n",
    "gsearch = GridSearchCV(estimator = GradientBoostingRegressor(learning_rate=0.1, n_estimators=50,\n",
    "                        min_samples_leaf=60, min_samples_split=20,subsample=0.8, max_features=.4,\n",
    "                        max_depth=5,random_state=10), \n",
    "param_grid = param_test, scoring=R2, n_jobs=-1, cv=10)#iid=False, \n",
    "gsearch.fit(X_train,y_train)\n",
    "gsearch.grid_scores_, gsearch.best_params_, gsearch.best_score_"
   ]
  },
  {
   "cell_type": "code",
   "execution_count": 33,
   "metadata": {
    "collapsed": false,
    "deletable": true,
    "editable": true
   },
   "outputs": [
    {
     "name": "stdout",
     "output_type": "stream",
     "text": [
      "perform 1 cross-validate: train r2 score = 0.619457970391, validate r2 score = 0.569788367525\n",
      "perform 2 cross-validate: train r2 score = 0.621361063819, validate r2 score = 0.567622972506\n",
      "perform 3 cross-validate: train r2 score = 0.634330377805, validate r2 score = 0.539410778954\n",
      "perform 4 cross-validate: train r2 score = 0.614734115646, validate r2 score = 0.604223008723\n",
      "perform 5 cross-validate: train r2 score = 0.659921562445, validate r2 score = 0.475552209341\n",
      "\n",
      "average train r2 score = 0.629961018021, average validate r2 score = 0.55131946741\n"
     ]
    }
   ],
   "source": [
    "DeepCV(X_train, y_train, gsearch)"
   ]
  },
  {
   "cell_type": "code",
   "execution_count": 34,
   "metadata": {
    "collapsed": false
   },
   "outputs": [
    {
     "data": {
      "image/png": "[encoded data removed]",
      "text/plain": [
       "<matplotlib.figure.Figure at 0x10fc476d0>"
      ]
     },
     "metadata": {},
     "output_type": "display_data"
    },
    {
     "data": {
      "text/plain": [
       "<matplotlib.figure.Figure at 0x10fc47bd0>"
      ]
     },
     "metadata": {},
     "output_type": "display_data"
    }
   ],
   "source": [
    "model=GradientBoostingRegressor(learning_rate=0.05, n_estimators=50,\n",
    "                        min_samples_leaf=60, min_samples_split=20,subsample=0.8, max_features=.4,\n",
    "                        max_depth=5,random_state=10)\n",
    "PrintImportance(model=model, X_train=X_train, y_train=y_train)"
   ]
  },
  {
   "cell_type": "code",
   "execution_count": 35,
   "metadata": {
    "collapsed": false,
    "deletable": true,
    "editable": true
   },
   "outputs": [],
   "source": [
    "GBMreg=GradientBoostingRegressor(learning_rate=0.05, n_estimators=50,min_samples_leaf=60,\n",
    "                        min_samples_split=20, max_features=.4, max_depth=5,\n",
    "                                 subsample=0.8,random_state=10)\n",
    "GBMreg.fit(X_train, y_train)\n",
    "y_predict = GBMreg.predict(X_test)\n",
    "\n",
    "#y_predict = np.round(y_predict)#np.round(y_predict * 0.99)\n",
    "#output = pd.DataFrame({'id': id_test, 'price_doc': y_predict})"
   ]
  },
  {
   "cell_type": "code",
   "execution_count": 36,
   "metadata": {
    "collapsed": true,
    "deletable": true,
    "editable": true
   },
   "outputs": [],
   "source": [
    "output = pd.DataFrame({'ID': id_test, 'y': y_predict})\n",
    "output.to_csv('../result/jul3_1.csv', index=False)"
   ]
  },
  {
   "cell_type": "code",
   "execution_count": null,
   "metadata": {
    "collapsed": true,
    "deletable": true,
    "editable": true
   },
   "outputs": [],
   "source": []
  },
  {
   "cell_type": "code",
   "execution_count": null,
   "metadata": {
    "collapsed": true,
    "deletable": true,
    "editable": true
   },
   "outputs": [],
   "source": []
  }
 ],
 "metadata": {
  "anaconda-cloud": {},
  "kernelspec": {
   "display_name": "Python 2",
   "language": "python",
   "name": "python2"
  },
  "language_info": {
   "codemirror_mode": {
    "name": "ipython",
    "version": 2
   },
   "file_extension": ".py",
   "mimetype": "text/x-python",
   "name": "python",
   "nbconvert_exporter": "python",
   "pygments_lexer": "ipython2",
   "version": "2.7.13"
  }
 },
 "nbformat": 4,
 "nbformat_minor": 2
}
