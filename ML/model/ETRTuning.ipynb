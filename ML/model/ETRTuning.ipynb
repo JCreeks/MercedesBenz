{
 "cells": [
  {
   "cell_type": "code",
   "execution_count": 1,
   "metadata": {
    "collapsed": false,
    "deletable": true,
    "editable": true
   },
   "outputs": [],
   "source": [
    "import os\n",
    "import sys\n",
    "import matplotlib.pyplot as plt\n",
    "%matplotlib inline\n",
    "module_path = os.path.abspath(os.path.join('..'))\n",
    "sys.path.append(module_path)\n",
    "\n",
    "import numpy as np\n",
    "import pandas as pd\n",
    "from sklearn.metrics import r2_score\n",
    "from sklearn.model_selection import train_test_split\n",
    "import xgboost as xgb\n",
    "\n",
    "import warnings\n",
    "warnings.filterwarnings('ignore')\n",
    "\n",
    "# my own module\n",
    "from conf.configure import Configure\n",
    "from utils import data_util"
   ]
  },
  {
   "cell_type": "code",
   "execution_count": 2,
   "metadata": {
    "collapsed": false,
    "deletable": true,
    "editable": true
   },
   "outputs": [],
   "source": [
    "import numpy as np\n",
    "import pandas as pd\n",
    "import datetime\n",
    "from sklearn.cross_validation import KFold\n",
    "from sklearn.cross_validation import train_test_split\n",
    "import time\n",
    "#%matplotlib inline\n",
    "from sklearn import preprocessing\n",
    "from sklearn.preprocessing import Imputer\n",
    "from xgboost import XGBRegressor\n",
    "from sklearn.ensemble import RandomForestRegressor, ExtraTreesRegressor, GradientBoostingRegressor\n",
    "from sklearn.grid_search import GridSearchCV\n",
    "from sklearn.cross_validation import ShuffleSplit\n",
    "from sklearn.metrics import make_scorer, mean_squared_error, r2_score\n",
    "from sklearn.linear_model import Ridge, LassoCV,LassoLarsCV, ElasticNet\n",
    "from sklearn.kernel_ridge import KernelRidge\n",
    "from sklearn.neighbors import KNeighborsRegressor\n",
    "from sklearn.svm import SVR\n",
    "from scipy.stats import skew\n",
    "from time import time\n",
    "\n",
    "R2 = make_scorer(r2_score, greater_is_better=True)"
   ]
  },
  {
   "cell_type": "code",
   "execution_count": 3,
   "metadata": {
    "collapsed": false,
    "deletable": true,
    "editable": true
   },
   "outputs": [
    {
     "name": "stdout",
     "output_type": "stream",
     "text": [
      "load datas...\n"
     ]
    }
   ],
   "source": [
    "print 'load datas...'\n",
    "train, test = data_util.load_dataset()\n",
    "\n",
    "y_train_all = train['y']\n",
    "del train['ID']\n",
    "del train['y']\n",
    "id_test = test['ID']\n",
    "del test['ID']"
   ]
  },
  {
   "cell_type": "code",
   "execution_count": 4,
   "metadata": {
    "collapsed": false,
    "deletable": true,
    "editable": true
   },
   "outputs": [],
   "source": [
    "X_train = train\n",
    "X_test = test\n",
    "y_train = y_train_all\n",
    "y_mean = np.mean(y_train)\n",
    "del train, test, y_train_all"
   ]
  },
  {
   "cell_type": "code",
   "execution_count": 5,
   "metadata": {
    "collapsed": true,
    "deletable": true,
    "editable": true
   },
   "outputs": [],
   "source": [
    "def DeepCV(train, y_train_all, model): \n",
    "    train_r2_scores = []\n",
    "    val_r2_scores = []\n",
    "    num_boost_roundses = []\n",
    "    df_columns = train.columns.values\n",
    "    for i in range(0, 5):\n",
    "        random_state = 42 + i\n",
    "        X_train, X_val, y_train, y_val = train_test_split(train, y_train_all, test_size=0.25, random_state=random_state)\n",
    "\n",
    "        y_mean = np.mean(y_train)\n",
    "        model.fit(X_train, y_train)\n",
    "        train_r2_score = r2_score(y_train, model.predict(X_train))\n",
    "        val_r2_score = r2_score(y_val, model.predict(X_val))\n",
    "        print 'perform {} cross-validate: train r2 score = {}, validate r2 score = {}'.format(i + 1, train_r2_score,\n",
    "                                                                                              val_r2_score)\n",
    "        train_r2_scores.append(train_r2_score)\n",
    "        val_r2_scores.append(val_r2_score)\n",
    "\n",
    "    print '\\naverage train r2 score = {}, average validate r2 score = {}'.format(\n",
    "        sum(train_r2_scores) / len(train_r2_scores),\n",
    "        sum(val_r2_scores) / len(val_r2_scores))\n",
    "    \n",
    "def PrintImportance(X_train, y_train, model):\n",
    "    model.fit(X_train, y_train)\n",
    "    feat_imp = pd.Series(model.feature_importances_, X_train.columns).sort_values(ascending=False)[:50]\n",
    "    feat_imp.plot(kind='bar', title='Feature Importances')\n",
    "    plt.ylabel('Feature Importance Score')\n",
    "    plt.figure(figsize=(50,50))"
   ]
  },
  {
   "cell_type": "code",
   "execution_count": 6,
   "metadata": {
    "collapsed": false,
    "deletable": true,
    "editable": true
   },
   "outputs": [
    {
     "name": "stdout",
     "output_type": "stream",
     "text": [
      "perform 1 cross-validate: train r2 score = 0.983533124049, validate r2 score = 0.362887009881\n",
      "perform 2 cross-validate: train r2 score = 0.979108336431, validate r2 score = 0.441691182335\n",
      "perform 3 cross-validate: train r2 score = 0.979054797208, validate r2 score = 0.41565204445\n",
      "perform 4 cross-validate: train r2 score = 0.977375454564, validate r2 score = 0.451593911691\n",
      "perform 5 cross-validate: train r2 score = 0.977982624882, validate r2 score = 0.396868028353\n",
      "\n",
      "average train r2 score = 0.979410867427, average validate r2 score = 0.413738435342\n"
     ]
    }
   ],
   "source": [
    "xtr0 = ExtraTreesRegressor(random_state=5)\n",
    "DeepCV(X_train, y_train, xtr0)"
   ]
  },
  {
   "cell_type": "code",
   "execution_count": 8,
   "metadata": {
    "collapsed": false,
    "deletable": true,
    "editable": true
   },
   "outputs": [
    {
     "data": {
      "text/plain": [
       "([mean: 0.47515, std: 0.09009, params: {'random_state': 5},\n",
       "  mean: 0.47561, std: 0.08502, params: {'random_state': 10},\n",
       "  mean: 0.46524, std: 0.09682, params: {'random_state': 48},\n",
       "  mean: 0.46282, std: 0.08605, params: {'random_state': 123}],\n",
       " {'random_state': 10},\n",
       " 0.47560708144987524)"
      ]
     },
     "execution_count": 8,
     "metadata": {},
     "output_type": "execute_result"
    }
   ],
   "source": [
    "param_test = {'random_state':[5,10,48,123]}\n",
    "gsearch = GridSearchCV(estimator = ExtraTreesRegressor(), \n",
    "param_grid = param_test, scoring=R2, n_jobs=-1, cv=10)#iid=False, \n",
    "gsearch.fit(X_train,y_train)\n",
    "gsearch.grid_scores_, gsearch.best_params_, gsearch.best_score_"
   ]
  },
  {
   "cell_type": "code",
   "execution_count": 11,
   "metadata": {
    "collapsed": false,
    "deletable": true,
    "editable": true
   },
   "outputs": [
    {
     "data": {
      "text/plain": [
       "([mean: 0.50358, std: 0.08177, params: {'n_estimators': 100},\n",
       "  mean: 0.50892, std: 0.08066, params: {'n_estimators': 200},\n",
       "  mean: 0.50748, std: 0.08003, params: {'n_estimators': 300},\n",
       "  mean: 0.50876, std: 0.07951, params: {'n_estimators': 400},\n",
       "  mean: 0.50845, std: 0.07959, params: {'n_estimators': 500},\n",
       "  mean: 0.50908, std: 0.07970, params: {'n_estimators': 600},\n",
       "  mean: 0.50903, std: 0.07955, params: {'n_estimators': 700},\n",
       "  mean: 0.50914, std: 0.07943, params: {'n_estimators': 800},\n",
       "  mean: 0.50868, std: 0.07928, params: {'n_estimators': 900}],\n",
       " {'n_estimators': 800},\n",
       " 0.5091357182547988)"
      ]
     },
     "execution_count": 11,
     "metadata": {},
     "output_type": "execute_result"
    }
   ],
   "source": [
    "param_test = {'n_estimators':range(100,1000,100)}\n",
    "gsearch = GridSearchCV(estimator = ExtraTreesRegressor(min_samples_split=40,max_depth=5,\n",
    "                        min_samples_leaf=50,max_features='sqrt',random_state=10), \n",
    "param_grid = param_test, scoring=R2, n_jobs=-1, cv=10)#iid=False, \n",
    "gsearch.fit(X_train,y_train)\n",
    "gsearch.grid_scores_, gsearch.best_params_, gsearch.best_score_"
   ]
  },
  {
   "cell_type": "code",
   "execution_count": 12,
   "metadata": {
    "collapsed": false,
    "deletable": true,
    "editable": true
   },
   "outputs": [
    {
     "data": {
      "text/plain": [
       "([mean: 0.50901, std: 0.07951, params: {'n_estimators': 750},\n",
       "  mean: 0.50914, std: 0.07943, params: {'n_estimators': 800},\n",
       "  mean: 0.50910, std: 0.07955, params: {'n_estimators': 850}],\n",
       " {'n_estimators': 800},\n",
       " 0.5091357182547988)"
      ]
     },
     "execution_count": 12,
     "metadata": {},
     "output_type": "execute_result"
    }
   ],
   "source": [
    "param_test = {'n_estimators':range(750,900,50)}\n",
    "gsearch = GridSearchCV(estimator = ExtraTreesRegressor(min_samples_split=40,max_depth=5,\n",
    "                        min_samples_leaf=50,max_features='sqrt',random_state=10),\n",
    "param_grid = param_test, scoring=R2, n_jobs=-1, cv=10)#iid=False, \n",
    "gsearch.fit(X_train,y_train)\n",
    "gsearch.grid_scores_, gsearch.best_params_, gsearch.best_score_"
   ]
  },
  {
   "cell_type": "code",
   "execution_count": 15,
   "metadata": {
    "collapsed": false,
    "deletable": true,
    "editable": true
   },
   "outputs": [
    {
     "data": {
      "text/plain": [
       "([mean: 0.50892, std: 0.08066, params: {'min_samples_split': 20, 'max_depth': 5},\n",
       "  mean: 0.50892, std: 0.08066, params: {'min_samples_split': 40, 'max_depth': 5},\n",
       "  mean: 0.50892, std: 0.08066, params: {'min_samples_split': 60, 'max_depth': 5},\n",
       "  mean: 0.50892, std: 0.08066, params: {'min_samples_split': 80, 'max_depth': 5},\n",
       "  mean: 0.53809, std: 0.08317, params: {'min_samples_split': 20, 'max_depth': 7},\n",
       "  mean: 0.53809, std: 0.08317, params: {'min_samples_split': 40, 'max_depth': 7},\n",
       "  mean: 0.53809, std: 0.08317, params: {'min_samples_split': 60, 'max_depth': 7},\n",
       "  mean: 0.53809, std: 0.08317, params: {'min_samples_split': 80, 'max_depth': 7},\n",
       "  mean: 0.54835, std: 0.08406, params: {'min_samples_split': 20, 'max_depth': 9},\n",
       "  mean: 0.54835, std: 0.08406, params: {'min_samples_split': 40, 'max_depth': 9},\n",
       "  mean: 0.54835, std: 0.08406, params: {'min_samples_split': 60, 'max_depth': 9},\n",
       "  mean: 0.54835, std: 0.08406, params: {'min_samples_split': 80, 'max_depth': 9},\n",
       "  mean: 0.54940, std: 0.08408, params: {'min_samples_split': 20, 'max_depth': 11},\n",
       "  mean: 0.54940, std: 0.08408, params: {'min_samples_split': 40, 'max_depth': 11},\n",
       "  mean: 0.54940, std: 0.08408, params: {'min_samples_split': 60, 'max_depth': 11},\n",
       "  mean: 0.54940, std: 0.08408, params: {'min_samples_split': 80, 'max_depth': 11},\n",
       "  mean: 0.55006, std: 0.08475, params: {'min_samples_split': 20, 'max_depth': 13},\n",
       "  mean: 0.55006, std: 0.08475, params: {'min_samples_split': 40, 'max_depth': 13},\n",
       "  mean: 0.55006, std: 0.08475, params: {'min_samples_split': 60, 'max_depth': 13},\n",
       "  mean: 0.55006, std: 0.08475, params: {'min_samples_split': 80, 'max_depth': 13},\n",
       "  mean: 0.54999, std: 0.08444, params: {'min_samples_split': 20, 'max_depth': 15},\n",
       "  mean: 0.54999, std: 0.08444, params: {'min_samples_split': 40, 'max_depth': 15},\n",
       "  mean: 0.54999, std: 0.08444, params: {'min_samples_split': 60, 'max_depth': 15},\n",
       "  mean: 0.54999, std: 0.08444, params: {'min_samples_split': 80, 'max_depth': 15}],\n",
       " {'max_depth': 13, 'min_samples_split': 20},\n",
       " 0.5500607351458262)"
      ]
     },
     "execution_count": 15,
     "metadata": {},
     "output_type": "execute_result"
    }
   ],
   "source": [
    "param_test = {'max_depth':range(5,16,2), 'min_samples_split':range(20,100,20)}\n",
    "gsearch = GridSearchCV(estimator = ExtraTreesRegressor(n_estimators=200,\n",
    "                        min_samples_leaf=50, max_features='sqrt', random_state=10), \n",
    "param_grid = param_test, scoring=R2, n_jobs=-1, cv=10)#iid=False, \n",
    "gsearch.fit(X_train,y_train)\n",
    "gsearch.grid_scores_, gsearch.best_params_, gsearch.best_score_"
   ]
  },
  {
   "cell_type": "code",
   "execution_count": 16,
   "metadata": {
    "collapsed": false,
    "deletable": true,
    "editable": true
   },
   "outputs": [
    {
     "data": {
      "text/plain": [
       "([mean: 0.54914, std: 0.08452, params: {'min_samples_split': 100, 'max_depth': 12},\n",
       "  mean: 0.54704, std: 0.08432, params: {'min_samples_split': 200, 'max_depth': 12},\n",
       "  mean: 0.54133, std: 0.08336, params: {'min_samples_split': 300, 'max_depth': 12},\n",
       "  mean: 0.55006, std: 0.08475, params: {'min_samples_split': 100, 'max_depth': 13},\n",
       "  mean: 0.54701, std: 0.08433, params: {'min_samples_split': 200, 'max_depth': 13},\n",
       "  mean: 0.54123, std: 0.08335, params: {'min_samples_split': 300, 'max_depth': 13},\n",
       "  mean: 0.54995, std: 0.08442, params: {'min_samples_split': 100, 'max_depth': 14},\n",
       "  mean: 0.54698, std: 0.08415, params: {'min_samples_split': 200, 'max_depth': 14},\n",
       "  mean: 0.54128, std: 0.08336, params: {'min_samples_split': 300, 'max_depth': 14}],\n",
       " {'max_depth': 13, 'min_samples_split': 100},\n",
       " 0.5500607351458262)"
      ]
     },
     "execution_count": 16,
     "metadata": {},
     "output_type": "execute_result"
    }
   ],
   "source": [
    "param_test = {'max_depth':range(12,15,1), 'min_samples_split':range(100,400,100)}\n",
    "gsearch = GridSearchCV(estimator = ExtraTreesRegressor(n_estimators=200,\n",
    "                        min_samples_leaf=50,max_features='sqrt', random_state=10), \n",
    "param_grid = param_test, scoring=R2, n_jobs=-1, cv=10)#iid=False, \n",
    "gsearch.fit(X_train,y_train)\n",
    "gsearch.grid_scores_, gsearch.best_params_, gsearch.best_score_"
   ]
  },
  {
   "cell_type": "code",
   "execution_count": 17,
   "metadata": {
    "collapsed": false,
    "deletable": true,
    "editable": true
   },
   "outputs": [
    {
     "data": {
      "text/plain": [
       "([mean: 0.56000, std: 0.08680, params: {'min_samples_split': 20, 'min_samples_leaf': 20},\n",
       "  mean: 0.55435, std: 0.08545, params: {'min_samples_split': 20, 'min_samples_leaf': 40},\n",
       "  mean: 0.54640, std: 0.08567, params: {'min_samples_split': 20, 'min_samples_leaf': 60},\n",
       "  mean: 0.53898, std: 0.08283, params: {'min_samples_split': 20, 'min_samples_leaf': 80}],\n",
       " {'min_samples_leaf': 20, 'min_samples_split': 20},\n",
       " 0.5600001543458863)"
      ]
     },
     "execution_count": 17,
     "metadata": {},
     "output_type": "execute_result"
    }
   ],
   "source": [
    "param_test = {'min_samples_split':[20], 'min_samples_leaf':range(20,100,20)}\n",
    "gsearch = GridSearchCV(estimator = ExtraTreesRegressor(max_depth=13, n_estimators=200,\n",
    "                        max_features='sqrt',random_state=10, min_samples_split=20), \n",
    "param_grid = param_test, scoring=R2, n_jobs=-1, cv=10)#iid=False, \n",
    "gsearch.fit(X_train,y_train)\n",
    "gsearch.grid_scores_, gsearch.best_params_, gsearch.best_score_"
   ]
  },
  {
   "cell_type": "code",
   "execution_count": 18,
   "metadata": {
    "collapsed": false
   },
   "outputs": [
    {
     "data": {
      "text/plain": [
       "([mean: 0.56389, std: 0.08757, params: {'min_samples_split': 20, 'min_samples_leaf': 10},\n",
       "  mean: 0.56000, std: 0.08680, params: {'min_samples_split': 20, 'min_samples_leaf': 20},\n",
       "  mean: 0.55742, std: 0.08635, params: {'min_samples_split': 20, 'min_samples_leaf': 30}],\n",
       " {'min_samples_leaf': 10, 'min_samples_split': 20},\n",
       " 0.5638895346038449)"
      ]
     },
     "execution_count": 18,
     "metadata": {},
     "output_type": "execute_result"
    }
   ],
   "source": [
    "param_test = {'min_samples_split':[20], 'min_samples_leaf':range(10,40,10)}\n",
    "gsearch = GridSearchCV(estimator = ExtraTreesRegressor(max_depth=13, n_estimators=200,\n",
    "                        max_features='sqrt',random_state=10, min_samples_split=20), \n",
    "param_grid = param_test, scoring=R2, n_jobs=-1, cv=10)#iid=False, \n",
    "gsearch.fit(X_train,y_train)\n",
    "gsearch.grid_scores_, gsearch.best_params_, gsearch.best_score_"
   ]
  },
  {
   "cell_type": "code",
   "execution_count": 22,
   "metadata": {
    "collapsed": false
   },
   "outputs": [
    {
     "name": "stdout",
     "output_type": "stream",
     "text": [
      "perform 1 cross-validate: train r2 score = 0.640715768873, validate r2 score = 0.547712435609\n",
      "perform 2 cross-validate: train r2 score = 0.634243272185, validate r2 score = 0.563549147794\n",
      "perform 3 cross-validate: train r2 score = 0.644224887747, validate r2 score = 0.535152049839\n",
      "perform 4 cross-validate: train r2 score = 0.628602115726, validate r2 score = 0.594134745193\n",
      "perform 5 cross-validate: train r2 score = 0.671450052028, validate r2 score = 0.461470128151\n",
      "\n",
      "average train r2 score = 0.643847219312, average validate r2 score = 0.540403701317\n"
     ]
    }
   ],
   "source": [
    "model = ExtraTreesRegressor(max_depth=13, n_estimators=200, min_samples_leaf=10,\n",
    "                        max_features='sqrt',random_state=10, min_samples_split=20)\n",
    "DeepCV(X_train, y_train, model)"
   ]
  },
  {
   "cell_type": "code",
   "execution_count": 23,
   "metadata": {
    "collapsed": false,
    "deletable": true,
    "editable": true
   },
   "outputs": [
    {
     "data": {
      "text/plain": [
       "([mean: 0.57030, std: 0.08892, params: {'max_features': 0.10000000000000001},\n",
       "  mean: 0.57401, std: 0.09122, params: {'max_features': 0.20000000000000001},\n",
       "  mean: 0.57505, std: 0.09109, params: {'max_features': 0.30000000000000004},\n",
       "  mean: 0.57553, std: 0.09089, params: {'max_features': 0.40000000000000002},\n",
       "  mean: 0.57543, std: 0.09089, params: {'max_features': 0.5},\n",
       "  mean: 0.57498, std: 0.09010, params: {'max_features': 0.60000000000000009},\n",
       "  mean: 0.57629, std: 0.09074, params: {'max_features': 0.70000000000000007},\n",
       "  mean: 0.57593, std: 0.09000, params: {'max_features': 0.80000000000000004},\n",
       "  mean: 0.57545, std: 0.08994, params: {'max_features': 0.90000000000000002}],\n",
       " {'max_features': 0.70000000000000007},\n",
       " 0.5762866669985064)"
      ]
     },
     "execution_count": 23,
     "metadata": {},
     "output_type": "execute_result"
    }
   ],
   "source": [
    "param_test = {'max_features':1/10.0*np.arange(1,10,1)}\n",
    "gsearch = GridSearchCV(estimator = ExtraTreesRegressor(max_depth=13, n_estimators=200,\n",
    "                        min_samples_leaf=10,min_samples_split=20, \n",
    "                        max_features='sqrt',random_state=10), \n",
    "param_grid = param_test, scoring=R2, n_jobs=-1, cv=10)#iid=False, \n",
    "gsearch.fit(X_train,y_train)\n",
    "gsearch.grid_scores_, gsearch.best_params_, gsearch.best_score_"
   ]
  },
  {
   "cell_type": "code",
   "execution_count": 27,
   "metadata": {
    "collapsed": false
   },
   "outputs": [
    {
     "data": {
      "text/plain": [
       "([mean: 0.57428, std: 0.09018, params: {'n_estimators': 50},\n",
       "  mean: 0.57558, std: 0.09049, params: {'n_estimators': 100},\n",
       "  mean: 0.57611, std: 0.09078, params: {'n_estimators': 150},\n",
       "  mean: 0.57629, std: 0.09074, params: {'n_estimators': 200},\n",
       "  mean: 0.57628, std: 0.09045, params: {'n_estimators': 250}],\n",
       " {'n_estimators': 200},\n",
       " 0.5762866669985064)"
      ]
     },
     "execution_count": 27,
     "metadata": {},
     "output_type": "execute_result"
    }
   ],
   "source": [
    "param_test = {'n_estimators':range(50,300,50)}\n",
    "gsearch = GridSearchCV(estimator = ExtraTreesRegressor(max_depth=13, n_estimators=200,\n",
    "                        min_samples_leaf=10,min_samples_split=20, \n",
    "                        max_features=.7,random_state=10), \n",
    "param_grid = param_test, scoring=R2, n_jobs=-1, cv=10)#iid=False, \n",
    "gsearch.fit(X_train,y_train)\n",
    "gsearch.grid_scores_, gsearch.best_params_, gsearch.best_score_"
   ]
  },
  {
   "cell_type": "code",
   "execution_count": 25,
   "metadata": {
    "collapsed": false,
    "deletable": true,
    "editable": true
   },
   "outputs": [
    {
     "name": "stdout",
     "output_type": "stream",
     "text": [
      "perform 1 cross-validate: train r2 score = 0.703370237136, validate r2 score = 0.550552460403\n",
      "perform 2 cross-validate: train r2 score = 0.699668978491, validate r2 score = 0.565781673831\n",
      "perform 3 cross-validate: train r2 score = 0.710944077573, validate r2 score = 0.538121232872\n",
      "perform 4 cross-validate: train r2 score = 0.698362510599, validate r2 score = 0.606948456911\n",
      "perform 5 cross-validate: train r2 score = 0.73417251167, validate r2 score = 0.483651112916\n",
      "\n",
      "average train r2 score = 0.709303663094, average validate r2 score = 0.549010987387\n"
     ]
    }
   ],
   "source": [
    "model = ExtraTreesRegressor(max_depth=13, n_estimators=200,\n",
    "                        min_samples_leaf=10,min_samples_split=20, \n",
    "                        max_features=.7,random_state=10)\n",
    "DeepCV(X_train, y_train, model)"
   ]
  },
  {
   "cell_type": "code",
   "execution_count": 30,
   "metadata": {
    "collapsed": false
   },
   "outputs": [
    {
     "data": {
      "image/png": "[encoded data removed]",
      "text/plain": [
       "<matplotlib.figure.Figure at 0x10a5e8690>"
      ]
     },
     "metadata": {},
     "output_type": "display_data"
    },
    {
     "data": {
      "text/plain": [
       "<matplotlib.figure.Figure at 0x10a5e8e10>"
      ]
     },
     "metadata": {},
     "output_type": "display_data"
    }
   ],
   "source": [
    "PrintImportance(model=model, X_train=X_train, y_train=y_train)"
   ]
  },
  {
   "cell_type": "code",
   "execution_count": 28,
   "metadata": {
    "collapsed": false,
    "deletable": true,
    "editable": true
   },
   "outputs": [],
   "source": [
    "EXTreg=ExtraTreesRegressor(max_depth=13, n_estimators=200,\n",
    "                        min_samples_leaf=10,min_samples_split=20, \n",
    "                        max_features=.7,random_state=10)\n",
    "EXTreg.fit(X_train, y_train)\n",
    "y_predict = EXTreg.predict(X_test)\n",
    "#y_predict = np.round(y_predict)#np.round(y_predict * 0.99)\n",
    "#output = pd.DataFrame({'id': id_test, 'price_doc': y_predict})"
   ]
  },
  {
   "cell_type": "code",
   "execution_count": 29,
   "metadata": {
    "collapsed": false,
    "deletable": true,
    "editable": true
   },
   "outputs": [],
   "source": [
    "output = pd.DataFrame({'ID': id_test, 'y': y_predict})\n",
    "output.to_csv('../result/jul3_2.csv', index=False)"
   ]
  },
  {
   "cell_type": "code",
   "execution_count": null,
   "metadata": {
    "collapsed": true,
    "deletable": true,
    "editable": true
   },
   "outputs": [],
   "source": []
  }
 ],
 "metadata": {
  "anaconda-cloud": {},
  "kernelspec": {
   "display_name": "Python 2",
   "language": "python",
   "name": "python2"
  },
  "language_info": {
   "codemirror_mode": {
    "name": "ipython",
    "version": 2
   },
   "file_extension": ".py",
   "mimetype": "text/x-python",
   "name": "python",
   "nbconvert_exporter": "python",
   "pygments_lexer": "ipython2",
   "version": "2.7.13"
  }
 },
 "nbformat": 4,
 "nbformat_minor": 2
}
