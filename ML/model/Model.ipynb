{
 "cells": [
  {
   "cell_type": "code",
   "execution_count": 3,
   "metadata": {
    "collapsed": false,
    "deletable": true,
    "editable": true
   },
   "outputs": [],
   "source": [
    "import os\n",
    "import sys\n",
    "\n",
    "import matplotlib.pyplot as plt\n",
    "\n",
    "module_path = os.path.abspath(os.path.join('..'))\n",
    "sys.path.append(module_path)\n",
    "\n",
    "import numpy as np\n",
    "import pandas as pd\n",
    "from sklearn.metrics import r2_score\n",
    "from sklearn.model_selection import train_test_split\n",
    "import xgboost as xgb\n",
    "\n",
    "from sklearn.base import BaseEstimator,TransformerMixin, ClassifierMixin\n",
    "from sklearn.utils import check_array\n",
    "from sklearn.pipeline import make_pipeline\n",
    "from tpot.builtins import ZeroCount\n",
    "\n",
    "import warnings\n",
    "warnings.filterwarnings('ignore')\n",
    "\n",
    "# my own module\n",
    "from conf.configure import Configure\n",
    "from utils import data_util\n",
    "from CV import DeepCV, PrintImportance, StackingEstimator"
   ]
  },
  {
   "cell_type": "code",
   "execution_count": 2,
   "metadata": {
    "collapsed": false,
    "deletable": true,
    "editable": true
   },
   "outputs": [],
   "source": [
    "import numpy as np\n",
    "import pandas as pd\n",
    "import datetime\n",
    "from sklearn.cross_validation import KFold\n",
    "from sklearn.cross_validation import train_test_split\n",
    "import time\n",
    "%matplotlib inline\n",
    "from sklearn import preprocessing\n",
    "from sklearn.preprocessing import Imputer\n",
    "from xgboost import XGBRegressor\n",
    "from sklearn.ensemble import RandomForestRegressor, ExtraTreesRegressor, GradientBoostingRegressor\n",
    "from sklearn.grid_search import GridSearchCV\n",
    "from sklearn.cross_validation import ShuffleSplit\n",
    "from sklearn.metrics import make_scorer, mean_squared_error, r2_score\n",
    "from sklearn.linear_model import Ridge, LassoCV,LassoLarsCV, ElasticNet, Lasso\n",
    "from sklearn.kernel_ridge import KernelRidge\n",
    "from sklearn.neighbors import KNeighborsRegressor\n",
    "from sklearn.svm import SVR\n",
    "from scipy.stats import skew\n",
    "from time import time\n",
    "\n",
    "R2 = make_scorer(r2_score, greater_is_better=True)"
   ]
  },
  {
   "cell_type": "code",
   "execution_count": 3,
   "metadata": {
    "collapsed": false,
    "deletable": true,
    "editable": true
   },
   "outputs": [
    {
     "name": "stdout",
     "output_type": "stream",
     "text": [
      "load datas...\n"
     ]
    }
   ],
   "source": [
    "print 'load datas...'\n",
    "train, test = data_util.load_dataset()\n",
    "\n",
    "y_train_all = train['y']\n",
    "del train['ID']\n",
    "del train['y']\n",
    "id_test = test['ID']\n",
    "del test['ID']"
   ]
  },
  {
   "cell_type": "code",
   "execution_count": 4,
   "metadata": {
    "collapsed": false,
    "deletable": true,
    "editable": true
   },
   "outputs": [],
   "source": [
    "X_train = train\n",
    "X_test = test\n",
    "y_train = y_train_all\n",
    "y_mean = np.mean(y_train)\n",
    "del train, test, y_train_all"
   ]
  },
  {
   "cell_type": "code",
   "execution_count": 5,
   "metadata": {
    "collapsed": true,
    "deletable": true,
    "editable": true
   },
   "outputs": [],
   "source": [
    "class StackingEstimator(BaseEstimator, TransformerMixin):\n",
    "    \n",
    "    def __init__(self, estimator):\n",
    "        self.estimator = estimator\n",
    "\n",
    "    def fit(self, X, y=None, **fit_params):\n",
    "        self.estimator.fit(X, y, **fit_params)\n",
    "        return self\n",
    "    def transform(self, X):\n",
    "        X = check_array(X)\n",
    "        X_transformed = np.copy(X)\n",
    "        # add class probabilities as a synthetic feature\n",
    "        if issubclass(self.estimator.__class__, ClassifierMixin) and hasattr(self.estimator, 'predict_proba'):\n",
    "            X_transformed = np.hstack((self.estimator.predict_proba(X), X))\n",
    "\n",
    "        # add class prodiction as a synthetic feature\n",
    "        X_transformed = np.hstack((np.reshape(self.estimator.predict(X), (-1, 1)), X_transformed))\n",
    "\n",
    "        return X_transformed"
   ]
  },
  {
   "cell_type": "code",
   "execution_count": 5,
   "metadata": {
    "collapsed": false,
    "deletable": true,
    "editable": true
   },
   "outputs": [
    {
     "name": "stdout",
     "output_type": "stream",
     "text": [
      "[0]\ttrain-rmse:12.6436\ttest-rmse:12.6422\n",
      "[50]\ttrain-rmse:11.2078\ttest-rmse:11.2823\n",
      "[100]\ttrain-rmse:10.1532\ttest-rmse:10.3228\n",
      "[150]\ttrain-rmse:9.39228\ttest-rmse:9.66048\n",
      "[200]\ttrain-rmse:8.85076\ttest-rmse:9.21386\n",
      "[250]\ttrain-rmse:8.45328\ttest-rmse:8.91647\n",
      "[300]\ttrain-rmse:8.1582\ttest-rmse:8.72149\n",
      "[350]\ttrain-rmse:7.92792\ttest-rmse:8.59791\n",
      "[400]\ttrain-rmse:7.73743\ttest-rmse:8.52228\n",
      "[450]\ttrain-rmse:7.5815\ttest-rmse:8.4729\n",
      "[500]\ttrain-rmse:7.44742\ttest-rmse:8.44181\n",
      "[550]\ttrain-rmse:7.33742\ttest-rmse:8.42149\n",
      "[600]\ttrain-rmse:7.23831\ttest-rmse:8.41179\n",
      "[650]\ttrain-rmse:7.14354\ttest-rmse:8.40683\n",
      "[700]\ttrain-rmse:7.06218\ttest-rmse:8.40239\n",
      "[750]\ttrain-rmse:6.99119\ttest-rmse:8.40026\n"
     ]
    }
   ],
   "source": [
    "xgb_params = {'n_trees': 520,     \n",
    "              'learning_rate': 0.0045,    \n",
    "              'max_depth': 4,    \n",
    "              'subsample': 0.94,    \n",
    "              'objective': 'reg:linear',    \n",
    "              'eval_metric': 'rmse',    \n",
    "              'base_score': y_mean, \n",
    "              # base prediction = mean(target)   \n",
    "              'silent': 1,   \n",
    "              'seed':5}\n",
    "\n",
    "dtrain = xgb.DMatrix(X_train, y_train)\n",
    "dtest = xgb.DMatrix(X_test)\n",
    "\n",
    "cv_output = xgb.cv(xgb_params, dtrain, num_boost_round=1000, early_stopping_rounds=50,\\\n",
    "    verbose_eval=50, show_stdv=False)\n",
    "cv_output[['train-rmse-mean', 'test-rmse-mean']].plot()\n",
    "\n",
    "dtrain = xgb.DMatrix(X_train, y_train)\n",
    "dtest = xgb.DMatrix(X_test)\n",
    "\n",
    "num_boost_rounds = len(cv_output)\n",
    "model = xgb.train(dict(xgb_params, silent=0), dtrain, num_boost_round=num_boost_rounds)\n",
    "\n",
    "y_predict = model.predict(dtest)"
   ]
  },
  {
   "cell_type": "code",
   "execution_count": 9,
   "metadata": {
    "collapsed": false,
    "deletable": true,
    "editable": true
   },
   "outputs": [
    {
     "data": {
      "text/plain": [
       "<matplotlib.axes._subplots.AxesSubplot at 0x11bdc5b90>"
      ]
     },
     "execution_count": 9,
     "metadata": {},
     "output_type": "execute_result"
    },
    {
     "data": {
      "image/png": "[encoded data removed]",
      "text/plain": [
       "<matplotlib.figure.Figure at 0x10a5969d0>"
      ]
     },
     "metadata": {},
     "output_type": "display_data"
    }
   ],
   "source": [
    "fig, ax = plt.subplots(1, 1, figsize=(8, 13))\n",
    "xgb.plot_importance(model, max_num_features=50, height=0.5, ax=ax)"
   ]
  },
  {
   "cell_type": "code",
   "execution_count": 12,
   "metadata": {
    "collapsed": false,
    "deletable": true,
    "editable": true
   },
   "outputs": [],
   "source": [
    "xgb_params = {'learning_rate': 0.005,\n",
    "              'max_depth': 4,\n",
    "              'subsample': 0.95,\n",
    "              'objective': 'reg:linear',\n",
    "              #'eval_metric': 'rmse',\n",
    "              'silent': 1,\n",
    "              'reg_alpha': 0,\n",
    "              'min_child_weight':4,\n",
    "              'colsample_bytree': 0.95,\n",
    "              'gamma':.4,\n",
    "              #'booster' :'gbtree',\n",
    "              #'tuneLength': 3,\n",
    "              'seed': 5 }\n",
    "#print(len(cv_output)) #309\n",
    "\n",
    "xgb_params['n_estimators']=616 #len(cv_output)\n",
    "\n",
    "model = XGBRegressor(**xgb_params)\n",
    "model.fit(X_train, y_train)\n",
    "y_predict = model.predict(X_test)"
   ]
  },
  {
   "cell_type": "markdown",
   "metadata": {
    "deletable": true,
    "editable": true
   },
   "source": [
    "GradientBoostingModel"
   ]
  },
  {
   "cell_type": "code",
   "execution_count": 10,
   "metadata": {
    "collapsed": true,
    "deletable": true,
    "editable": true
   },
   "outputs": [],
   "source": [
    "model = GradientBoostingRegressor(learning_rate=0.001, loss=\"huber\", max_depth=3, max_features=0.55, random_state=5,\n",
    "                                  min_samples_leaf=18, min_samples_split=14, subsample=0.7)\n",
    "model.fit(X_train, y_train)\n",
    "y_predict = model.predict(X_test)"
   ]
  },
  {
   "cell_type": "code",
   "execution_count": 5,
   "metadata": {
    "collapsed": false,
    "deletable": true,
    "editable": true
   },
   "outputs": [
    {
     "name": "stdout",
     "output_type": "stream",
     "text": [
      "perform 1 cross-validate: train r2 score = 0.599411309554, validate r2 score = 0.594966272774\n",
      "perform 2 cross-validate: train r2 score = 0.605417590037, validate r2 score = 0.571949961404\n",
      "perform 3 cross-validate: train r2 score = 0.612810000065, validate r2 score = 0.545784895931\n",
      "perform 4 cross-validate: train r2 score = 0.589413539307, validate r2 score = 0.622454596188\n",
      "perform 5 cross-validate: train r2 score = 0.634046200712, validate r2 score = 0.503352083397\n",
      "\n",
      "average train r2 score = 0.608219727935, average validate r2 score = 0.567701561939\n"
     ]
    }
   ],
   "source": [
    "model = Lasso(alpha=0.01)\n",
    "DeepCV(metric=r2_score, model=model, train=X_train, y_train_all=y_train)\n",
    "model.fit(X_train, y_train)\n",
    "y_predict = model.predict(X_test)"
   ]
  },
  {
   "cell_type": "code",
   "execution_count": 7,
   "metadata": {
    "collapsed": false,
    "deletable": true,
    "editable": true
   },
   "outputs": [
    {
     "name": "stdout",
     "output_type": "stream",
     "text": [
      "perform 1 cross-validate: train r2 score = 0.620636440004, validate r2 score = 0.573103128243\n",
      "perform 2 cross-validate: train r2 score = 0.62562360401, validate r2 score = 0.553131752592\n",
      "perform 3 cross-validate: train r2 score = 0.633655041047, validate r2 score = 0.523035255291\n",
      "perform 4 cross-validate: train r2 score = 0.609964181296, validate r2 score = 0.600453739948\n",
      "perform 5 cross-validate: train r2 score = 0.65123687171, validate r2 score = 0.496159511777\n",
      "\n",
      "average train r2 score = 0.628223227613, average validate r2 score = 0.54917667757\n"
     ]
    }
   ],
   "source": [
    "model = Ridge(alpha=0.5)\n",
    "DeepCV(metric=r2_score, model=model, train=X_train, y_train_all=y_train)\n",
    "model.fit(X_train, y_train)\n",
    "y_predict = model.predict(X_test)"
   ]
  },
  {
   "cell_type": "code",
   "execution_count": 7,
   "metadata": {
    "collapsed": false,
    "deletable": true,
    "editable": true
   },
   "outputs": [
    {
     "name": "stdout",
     "output_type": "stream",
     "text": [
      "perform 1 cross-validate: train r2 score = 0.574843814244, validate r2 score = 0.608943475272\n",
      "perform 2 cross-validate: train r2 score = 0.589844014743, validate r2 score = 0.580841875446\n",
      "perform 3 cross-validate: train r2 score = 0.590698445684, validate r2 score = 0.55929223719\n",
      "perform 4 cross-validate: train r2 score = 0.568350712599, validate r2 score = 0.644508719835\n",
      "perform 5 cross-validate: train r2 score = 0.614481834078, validate r2 score = 0.511268777283\n",
      "perform 6 cross-validate: train r2 score = 0.570729910852, validate r2 score = 0.639038744957\n",
      "perform 7 cross-validate: train r2 score = 0.561149053994, validate r2 score = 0.650203955136\n",
      "perform 8 cross-validate: train r2 score = 0.573302513501, validate r2 score = 0.625927274037\n",
      "perform 9 cross-validate: train r2 score = 0.577702558806, validate r2 score = 0.604072706463\n",
      "perform 10 cross-validate: train r2 score = 0.609614023193, validate r2 score = 0.510453450925\n",
      "\n",
      "average train r2 score = 0.583071688169, average validate r2 score = 0.593455121654\n"
     ]
    }
   ],
   "source": [
    "exported_pipeline = make_pipeline(\n",
    "    ZeroCount(),\n",
    "    LassoLarsCV(normalize=True)\n",
    ")\n",
    "DeepCV(metric=r2_score, model=exported_pipeline, train=X_train, y_train_all=y_train)\n",
    "exported_pipeline.fit(X_train, y_train)\n",
    "y_predict = exported_pipeline.predict(X_test)"
   ]
  },
  {
   "cell_type": "code",
   "execution_count": 9,
   "metadata": {
    "collapsed": false,
    "deletable": true,
    "editable": true
   },
   "outputs": [
    {
     "name": "stdout",
     "output_type": "stream",
     "text": [
      "perform 1 cross-validate: train r2 score = 0.579641990182, validate r2 score = 0.592406467318\n",
      "perform 2 cross-validate: train r2 score = 0.589392945411, validate r2 score = 0.580201616619\n",
      "perform 3 cross-validate: train r2 score = 0.59466134948, validate r2 score = 0.558877007502\n",
      "perform 4 cross-validate: train r2 score = 0.570195253186, validate r2 score = 0.635688167531\n",
      "perform 5 cross-validate: train r2 score = 0.618940758704, validate r2 score = 0.49655740488\n",
      "perform 6 cross-validate: train r2 score = 0.57253508886, validate r2 score = 0.6355387442\n",
      "perform 7 cross-validate: train r2 score = 0.566914353828, validate r2 score = 0.651296242157\n",
      "perform 8 cross-validate: train r2 score = 0.576011288655, validate r2 score = 0.619381468602\n",
      "perform 9 cross-validate: train r2 score = 0.576259912984, validate r2 score = 0.603075892432\n",
      "perform 10 cross-validate: train r2 score = 0.611687568148, validate r2 score = 0.510639434388\n",
      "\n",
      "average train r2 score = 0.585624050944, average validate r2 score = 0.588366244563\n"
     ]
    }
   ],
   "source": [
    "model = make_pipeline(\n",
    "    StackingEstimator(estimator=LassoLarsCV(normalize=True)),\n",
    "    StackingEstimator(estimator=GradientBoostingRegressor(learning_rate=0.001, loss=\"huber\", max_depth=3, max_features=0.55, min_samples_leaf=18, min_samples_split=14, subsample=0.7)),\n",
    "    LassoLarsCV()\n",
    ")\n",
    "DeepCV(metric=r2_score, model=model, train=X_train, y_train_all=y_train)\n",
    "model.fit(X_train, y_train)\n",
    "y_predict = model.predict(X_test)"
   ]
  },
  {
   "cell_type": "code",
   "execution_count": 8,
   "metadata": {
    "collapsed": true,
    "deletable": true,
    "editable": true
   },
   "outputs": [],
   "source": [
    "output = pd.DataFrame({'ID': id_test, 'y': y_predict})\n",
    "output.to_csv('../result/jul4_5.csv', index=False)"
   ]
  },
  {
   "cell_type": "code",
   "execution_count": null,
   "metadata": {
    "collapsed": true,
    "deletable": true,
    "editable": true
   },
   "outputs": [],
   "source": []
  }
 ],
 "metadata": {
  "kernelspec": {
   "display_name": "Python 2",
   "language": "python",
   "name": "python2"
  },
  "language_info": {
   "codemirror_mode": {
    "name": "ipython",
    "version": 2
   },
   "file_extension": ".py",
   "mimetype": "text/x-python",
   "name": "python",
   "nbconvert_exporter": "python",
   "pygments_lexer": "ipython2",
   "version": "2.7.13"
  }
 },
 "nbformat": 4,
 "nbformat_minor": 2
}
