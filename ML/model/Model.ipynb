{
 "cells": [
  {
   "cell_type": "code",
   "execution_count": 17,
   "metadata": {
    "collapsed": false,
    "deletable": true,
    "editable": true
   },
   "outputs": [],
   "source": [
    "import os\n",
    "import sys\n",
    "\n",
    "import matplotlib.pyplot as plt\n",
    "\n",
    "module_path = os.path.abspath(os.path.join('..'))\n",
    "sys.path.append(module_path)\n",
    "\n",
    "import numpy as np\n",
    "import pandas as pd\n",
    "from sklearn.metrics import r2_score\n",
    "from sklearn.model_selection import train_test_split\n",
    "import xgboost as xgb\n",
    "\n",
    "import warnings\n",
    "warnings.filterwarnings('ignore')\n",
    "\n",
    "# my own module\n",
    "from conf.configure import Configure\n",
    "from utils import data_util"
   ]
  },
  {
   "cell_type": "code",
   "execution_count": 2,
   "metadata": {
    "collapsed": false,
    "deletable": true,
    "editable": true
   },
   "outputs": [],
   "source": [
    "import numpy as np\n",
    "import pandas as pd\n",
    "import datetime\n",
    "from sklearn.cross_validation import KFold\n",
    "from sklearn.cross_validation import train_test_split\n",
    "import time\n",
    "#%matplotlib inline\n",
    "from sklearn import preprocessing\n",
    "from sklearn.preprocessing import Imputer\n",
    "from xgboost import XGBRegressor\n",
    "from sklearn.ensemble import RandomForestRegressor, ExtraTreesRegressor, GradientBoostingRegressor\n",
    "from sklearn.grid_search import GridSearchCV\n",
    "from sklearn.cross_validation import ShuffleSplit\n",
    "from sklearn.metrics import make_scorer, mean_squared_error, r2_score\n",
    "from sklearn.linear_model import Ridge, LassoCV,LassoLarsCV, ElasticNet\n",
    "from sklearn.kernel_ridge import KernelRidge\n",
    "from sklearn.neighbors import KNeighborsRegressor\n",
    "from sklearn.svm import SVR\n",
    "from scipy.stats import skew\n",
    "from time import time\n",
    "\n",
    "R2 = make_scorer(r2_score, greater_is_better=True)"
   ]
  },
  {
   "cell_type": "code",
   "execution_count": 3,
   "metadata": {
    "collapsed": false,
    "deletable": true,
    "editable": true
   },
   "outputs": [
    {
     "name": "stdout",
     "output_type": "stream",
     "text": [
      "load datas...\n"
     ]
    }
   ],
   "source": [
    "print 'load datas...'\n",
    "train, test = data_util.load_dataset()\n",
    "\n",
    "y_train_all = train['y']\n",
    "del train['ID']\n",
    "del train['y']\n",
    "id_test = test['ID']\n",
    "del test['ID']"
   ]
  },
  {
   "cell_type": "code",
   "execution_count": 4,
   "metadata": {
    "collapsed": false,
    "deletable": true,
    "editable": true
   },
   "outputs": [],
   "source": [
    "X_train = train\n",
    "X_test = test\n",
    "y_train = y_train_all\n",
    "y_mean = np.mean(y_train)\n",
    "del train, test, y_train_all"
   ]
  },
  {
   "cell_type": "code",
   "execution_count": 19,
   "metadata": {
    "collapsed": false,
    "deletable": true,
    "editable": true
   },
   "outputs": [
    {
     "name": "stdout",
     "output_type": "stream",
     "text": [
      "[0]\ttrain-rmse:12.6415\ttest-rmse:12.6389\n",
      "[50]\ttrain-rmse:11.1931\ttest-rmse:11.1965\n",
      "[100]\ttrain-rmse:10.1987\ttest-rmse:10.2063\n",
      "[150]\ttrain-rmse:9.54607\ttest-rmse:9.55825\n",
      "[200]\ttrain-rmse:9.10687\ttest-rmse:9.12412\n",
      "[250]\ttrain-rmse:8.82474\ttest-rmse:8.84976\n",
      "[300]\ttrain-rmse:8.63685\ttest-rmse:8.66969\n",
      "[350]\ttrain-rmse:8.50951\ttest-rmse:8.55405\n",
      "[400]\ttrain-rmse:8.41913\ttest-rmse:8.48062\n",
      "[450]\ttrain-rmse:8.35144\ttest-rmse:8.43056\n",
      "[500]\ttrain-rmse:8.29716\ttest-rmse:8.3926\n",
      "[550]\ttrain-rmse:8.25092\ttest-rmse:8.36588\n",
      "[600]\ttrain-rmse:8.20874\ttest-rmse:8.34704\n",
      "[650]\ttrain-rmse:8.17015\ttest-rmse:8.3299\n",
      "[700]\ttrain-rmse:8.13405\ttest-rmse:8.31785\n",
      "[750]\ttrain-rmse:8.10022\ttest-rmse:8.30829\n",
      "[800]\ttrain-rmse:8.06867\ttest-rmse:8.30293\n",
      "[850]\ttrain-rmse:8.03862\ttest-rmse:8.29791\n",
      "[900]\ttrain-rmse:8.01135\ttest-rmse:8.29603\n",
      "[950]\ttrain-rmse:7.98647\ttest-rmse:8.29361\n"
     ]
    }
   ],
   "source": [
    "xgb_params = {\n",
    "    'eta': .005,\n",
    "    'max_depth': 2,\n",
    "    'subsample': 0.95,\n",
    "    'reg_alpha': 0,\n",
    "    'base_score': y_mean,\n",
    "    'min_child_weight':6,\n",
    "    'colsample_bytree': 0.55,\n",
    "    'objective': 'reg:linear',\n",
    "    'eval_metric': 'rmse',\n",
    "    'silent': 1,\n",
    "    'booster' :'gbtree',\n",
    "    'tuneLength': 3,\n",
    "    'seed': 123\n",
    "}\n",
    "\n",
    "dtrain = xgb.DMatrix(X_train, y_train)\n",
    "dtest = xgb.DMatrix(X_test)\n",
    "\n",
    "cv_output = xgb.cv(xgb_params, dtrain, num_boost_round=1000, early_stopping_rounds=50,\\\n",
    "    verbose_eval=50, show_stdv=False)\n",
    "cv_output[['train-rmse-mean', 'test-rmse-mean']].plot()\n",
    "\n",
    "dtrain = xgb.DMatrix(X_train, y_train)\n",
    "dtest = xgb.DMatrix(X_test)\n",
    "\n",
    "num_boost_rounds = len(cv_output)\n",
    "model = xgb.train(dict(xgb_params, silent=0), dtrain, num_boost_round=num_boost_rounds)\n",
    "\n",
    "y_predict = model.predict(dtest)"
   ]
  },
  {
   "cell_type": "code",
   "execution_count": 20,
   "metadata": {
    "collapsed": false
   },
   "outputs": [
    {
     "data": {
      "text/plain": [
       "<matplotlib.axes._subplots.AxesSubplot at 0x112255c90>"
      ]
     },
     "execution_count": 20,
     "metadata": {},
     "output_type": "execute_result"
    }
   ],
   "source": [
    "fig, ax = plt.subplots(1, 1, figsize=(8, 13))\n",
    "xgb.plot_importance(model, max_num_features=50, height=0.5, ax=ax)"
   ]
  },
  {
   "cell_type": "code",
   "execution_count": 12,
   "metadata": {
    "collapsed": false,
    "deletable": true,
    "editable": true
   },
   "outputs": [],
   "source": [
    "xgb_params = {'learning_rate': 0.005,\n",
    "              'max_depth': 4,\n",
    "              'subsample': 0.95,\n",
    "              'objective': 'reg:linear',\n",
    "              #'eval_metric': 'rmse',\n",
    "              'silent': 1,\n",
    "              'reg_alpha': 0,\n",
    "              'min_child_weight':4,\n",
    "              'colsample_bytree': 0.95,\n",
    "              'gamma':.4,\n",
    "              #'booster' :'gbtree',\n",
    "              #'tuneLength': 3,\n",
    "              'seed': 5 }\n",
    "#print(len(cv_output)) #309\n",
    "\n",
    "xgb_params['n_estimators']=616 #len(cv_output)\n",
    "\n",
    "model = XGBRegressor(**xgb_params)\n",
    "model.fit(X_train, y_train)\n",
    "y_predict = model.predict(X_test)"
   ]
  },
  {
   "cell_type": "markdown",
   "metadata": {},
   "source": [
    "GradientBoostingModel"
   ]
  },
  {
   "cell_type": "code",
   "execution_count": 10,
   "metadata": {
    "collapsed": true
   },
   "outputs": [],
   "source": [
    "model = GradientBoostingRegressor(learning_rate=0.001, loss=\"huber\", max_depth=3, max_features=0.55, random_state=5,\n",
    "                                  min_samples_leaf=18, min_samples_split=14, subsample=0.7)\n",
    "model.fit(X_train, y_train)\n",
    "y_predict = model.predict(X_test)"
   ]
  },
  {
   "cell_type": "code",
   "execution_count": 21,
   "metadata": {
    "collapsed": true,
    "deletable": true,
    "editable": true
   },
   "outputs": [],
   "source": [
    "output = pd.DataFrame({'ID': id_test, 'y': y_predict})\n",
    "output.to_csv('../result/jul2_5.csv', index=False)"
   ]
  },
  {
   "cell_type": "code",
   "execution_count": null,
   "metadata": {
    "collapsed": true,
    "deletable": true,
    "editable": true
   },
   "outputs": [],
   "source": []
  }
 ],
 "metadata": {
  "kernelspec": {
   "display_name": "Python 2",
   "language": "python",
   "name": "python2"
  },
  "language_info": {
   "codemirror_mode": {
    "name": "ipython",
    "version": 2
   },
   "file_extension": ".py",
   "mimetype": "text/x-python",
   "name": "python",
   "nbconvert_exporter": "python",
   "pygments_lexer": "ipython2",
   "version": "2.7.13"
  }
 },
 "nbformat": 4,
 "nbformat_minor": 2
}
